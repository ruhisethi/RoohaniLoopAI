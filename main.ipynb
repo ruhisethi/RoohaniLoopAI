{
  "nbformat": 4,
  "nbformat_minor": 0,
  "metadata": {
    "colab": {
      "provenance": []
    },
    "kernelspec": {
      "name": "python3",
      "display_name": "Python 3"
    },
    "language_info": {
      "name": "python"
    }
  },
  "cells": [
    {
      "cell_type": "code",
      "execution_count": 2,
      "metadata": {
        "id": "M8rq6I1Na5vh"
      },
      "outputs": [],
      "source": [
        "import uuid\n",
        "from fastapi import FastAPI, HTTPException\n",
        "from pydantic import BaseModel\n",
        "from enum import Enum\n",
        "import asyncio\n",
        "from datetime import datetime\n",
        "import time"
      ]
    },
    {
      "cell_type": "code",
      "source": [
        "app = FastAPI()\n"
      ],
      "metadata": {
        "id": "fTbbxz_rbBsM"
      },
      "execution_count": 3,
      "outputs": []
    },
    {
      "cell_type": "markdown",
      "source": [
        "Enum for priority"
      ],
      "metadata": {
        "id": "8bVafl8rbHMo"
      }
    },
    {
      "cell_type": "code",
      "source": [
        "class Priority(str, Enum):\n",
        "    HIGH = \"HIGH\"\n",
        "    MEDIUM = \"MEDIUM\"\n",
        "    LOW = \"LOW\""
      ],
      "metadata": {
        "id": "RHHiAHdnbW6j"
      },
      "execution_count": 4,
      "outputs": []
    },
    {
      "cell_type": "markdown",
      "source": [
        "Pydantic model for ingestion request"
      ],
      "metadata": {
        "id": "R9fuliFjbYun"
      }
    },
    {
      "cell_type": "code",
      "source": [
        "class IngestionRequest(BaseModel):\n",
        "    ids: list[int]\n",
        "    priority: Priority"
      ],
      "metadata": {
        "id": "djyfjSnIbj7D"
      },
      "execution_count": 5,
      "outputs": []
    },
    {
      "cell_type": "markdown",
      "source": [
        "In-memory store for ingestion and batch status"
      ],
      "metadata": {
        "id": "jPqfO97Sblrt"
      }
    },
    {
      "cell_type": "code",
      "source": [
        "ingestion_store = {}\n",
        "batch_queue = []\n",
        "last_batch_time = 0\n"
      ],
      "metadata": {
        "id": "hHOyrR4sbr8T"
      },
      "execution_count": 6,
      "outputs": []
    },
    {
      "cell_type": "markdown",
      "source": [
        "Mock external API response"
      ],
      "metadata": {
        "id": "PsjLlCY0cCZ5"
      }
    },
    {
      "cell_type": "code",
      "source": [
        "async def fetch_data(id: int) -> dict:\n",
        "    await asyncio.sleep(1)  # Simulate API delay\n",
        "    return {\"id\": id, \"data\": \"processed\"}"
      ],
      "metadata": {
        "id": "5V4taTyVcEIH"
      },
      "execution_count": 7,
      "outputs": []
    },
    {
      "cell_type": "markdown",
      "source": [
        "Process a batch asynchronously and Update overall ingestion status based on batch statuses\n",
        "\n",
        "\n"
      ],
      "metadata": {
        "id": "yJpIbWHbcIk8"
      }
    },
    {
      "cell_type": "code",
      "source": [
        "async def process_batch(batch_id: str, ids: list[int], ingestion_id: str):\n",
        "    ingestion_store[ingestion_id][\"batches\"][batch_id][\"status\"] = \"triggered\"\n",
        "\n",
        "    for id in ids:\n",
        "        await fetch_data(id)\n",
        "\n",
        "    ingestion_store[ingestion_id][\"batches\"][batch_id][\"status\"] = \"completed\"\n",
        "\n",
        "    all_completed = all(\n",
        "        batch[\"status\"] == \"completed\"\n",
        "        for batch in ingestion_store[ingestion_id][\"batches\"].values()\n",
        "    )\n",
        "    ingestion_store[ingestion_id][\"status\"] = \"completed\" if all_completed else \"triggered\"\n",
        "\n",
        "\n"
      ],
      "metadata": {
        "id": "Xw5iQ6PecIE9"
      },
      "execution_count": 15,
      "outputs": []
    },
    {
      "cell_type": "markdown",
      "source": [
        "Ingestion API"
      ],
      "metadata": {
        "id": "psOhnWA-cg5J"
      }
    },
    {
      "cell_type": "code",
      "source": [
        "@app.post(\"/ingest\")\n",
        "async def ingest_data(request: IngestionRequest):\n",
        "    global batch_queue, last_batch_time\n",
        "\n",
        "    # Validate IDs range\n",
        "    if not all(1 <= id <= 10**9 + 7 for id in request.ids):\n",
        "        raise HTTPException(status_code=400, detail=\"IDs must be between 1 and 10^9+7\")\n",
        "\n",
        "    # Generate unique ingestion_id\n",
        "    ingestion_id = str(uuid.uuid4())\n",
        "\n",
        "    # Split into batches of 3\n",
        "    batches = [request.ids[i:i + 3] for i in range(0, len(request.ids), 3)]\n",
        "\n",
        "    # Initialize ingestion status\n",
        "    ingestion_store[ingestion_id] = {\n",
        "        \"status\": \"yet_to_start\",\n",
        "        \"priority\": request.priority,\n",
        "        \"created_time\": datetime.now(),\n",
        "        \"batches\": {str(uuid.uuid4()): {\"ids\": batch, \"status\": \"yet_to_start\"} for batch in batches}\n",
        "    }\n",
        "\n",
        "    # Enqueue batches with priority and timestamp\n",
        "    for batch_id in ingestion_store[ingestion_id][\"batches\"]:\n",
        "        batch_queue.append((ingestion_id, batch_id, request.priority, datetime.now()))\n",
        "\n",
        "    # Sort queue by (priority, created_time) - HIGH > MEDIUM > LOW\n",
        "    batch_queue.sort(key=lambda x: ({\"HIGH\": 0, \"MEDIUM\": 1, \"LOW\": 2}[x[2]], x[3]))\n",
        "\n",
        "    # Process batches with rate limiting\n",
        "    while batch_queue and time.time() - last_batch_time >= 5:\n",
        "      ingestion_id, batch_id, _, _ = batch_queue.pop(0)\n",
        "      batch_ids = ingestion_store[ingestion_id][\"batches\"][batch_id][\"ids\"]\n",
        "      asyncio.create_task(process_batch(batch_id, batch_ids, ingestion_id))\n",
        "      last_batch_time = time.time()\n",
        "    return {\"ingestion_id\": ingestion_id}\n",
        "\n",
        ""
      ],
      "metadata": {
        "id": "G12GzVxzcmCm"
      },
      "execution_count": 23,
      "outputs": []
    },
    {
      "cell_type": "markdown",
      "source": [
        "Status API"
      ],
      "metadata": {
        "id": "4snhF5J6czp9"
      }
    },
    {
      "cell_type": "code",
      "source": [
        "@app.get(\"/status/{ingestion_id}\")\n",
        "async def get_status(ingestion_id: str):\n",
        "    if ingestion_id not in ingestion_store:\n",
        "        raise HTTPException(status_code=404, detail=\"Ingestion ID not found\")\n",
        "\n",
        "    return {\n",
        "        \"ingestion_id\": ingestion_id,\n",
        "        \"status\": ingestion_store[ingestion_id][\"status\"],\n",
        "        \"batches\": [\n",
        "            {\"batch_id\": batch_id, \"ids\": details[\"ids\"], \"status\": details[\"status\"]}\n",
        "            for batch_id, details in ingestion_store[ingestion_id][\"batches\"].items()\n",
        "        ]\n",
        "    }\n"
      ],
      "metadata": {
        "id": "OON-awOnc2_0"
      },
      "execution_count": 24,
      "outputs": []
    },
    {
      "cell_type": "markdown",
      "source": [
        "Background task to process remaining batches"
      ],
      "metadata": {
        "id": "JDcAmQPGc7pZ"
      }
    },
    {
      "cell_type": "code",
      "source": [
        "async def process_queue():\n",
        "    global batch_queue, last_batch_time\n",
        "    while True:\n",
        "        now = time.time()\n",
        "        if batch_queue and now - last_batch_time >= 5:\n",
        "            ingestion_id, batch_id, _, _ = batch_queue.pop(0)\n",
        "            batch_ids = ingestion_store[ingestion_id][\"batches\"][batch_id][\"ids\"]\n",
        "            asyncio.create_task(process_batch(batch_id, batch_ids, ingestion_id))\n",
        "            last_batch_time = now\n",
        "        await asyncio.sleep(1)\n",
        "\n"
      ],
      "metadata": {
        "id": "c8HqVmPYc-3K"
      },
      "execution_count": 25,
      "outputs": []
    },
    {
      "cell_type": "markdown",
      "source": [
        "Start background task"
      ],
      "metadata": {
        "id": "9c0GFACmdFgg"
      }
    },
    {
      "cell_type": "code",
      "source": [
        "@app.on_event(\"startup\")\n",
        "async def startup_event():\n",
        "    asyncio.create_task(process_queue())\n"
      ],
      "metadata": {
        "colab": {
          "base_uri": "https://localhost:8080/"
        },
        "id": "Xk_Y_IWCdCMl",
        "outputId": "a1efedfe-74e9-42c4-8437-6ed62f661740"
      },
      "execution_count": 26,
      "outputs": [
        {
          "output_type": "stream",
          "name": "stderr",
          "text": [
            "<ipython-input-26-b6974b0c29d4>:1: DeprecationWarning: \n",
            "        on_event is deprecated, use lifespan event handlers instead.\n",
            "\n",
            "        Read more about it in the\n",
            "        [FastAPI docs for Lifespan Events](https://fastapi.tiangolo.com/advanced/events/).\n",
            "        \n",
            "  @app.on_event(\"startup\")\n"
          ]
        }
      ]
    },
    {
      "cell_type": "code",
      "source": [],
      "metadata": {
        "id": "p2iO8oFLgslg"
      },
      "execution_count": null,
      "outputs": []
    }
  ]
}